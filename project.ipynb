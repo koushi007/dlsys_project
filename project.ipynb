{
 "cells": [
  {
   "cell_type": "markdown",
   "metadata": {},
   "source": [
    "Here we see the first example of why we have to move so much logic to the backend implementation.\n",
    "Although in NDArray originally, it was very simple to restride the array, this is no longer possible\n",
    "as we have to keep track of the indices and values of the non-default values."
   ]
  },
  {
   "cell_type": "code",
   "execution_count": 1,
   "metadata": {},
   "outputs": [
    {
     "name": "stdout",
     "output_type": "stream",
     "text": [
      "env: PYTHONPATH=./python\n",
      "env: NEEDLE_BACKEND=sparse\n"
     ]
    }
   ],
   "source": [
    "%set_env PYTHONPATH ./python\n",
    "%set_env NEEDLE_BACKEND sparse"
   ]
  },
  {
   "cell_type": "code",
   "execution_count": 2,
   "metadata": {},
   "outputs": [],
   "source": [
    "import sys\n",
    "sys.path.append('./python')"
   ]
  },
  {
   "cell_type": "code",
   "execution_count": 3,
   "metadata": {},
   "outputs": [
    {
     "name": "stdout",
     "output_type": "stream",
     "text": [
      "Using sparse backend\n"
     ]
    }
   ],
   "source": [
    "import needle as ndl\n",
    "import numpy as np\n",
    "from needle import backend_sparse as nd"
   ]
  },
  {
   "cell_type": "code",
   "execution_count": 4,
   "metadata": {},
   "outputs": [
    {
     "data": {
      "text/plain": [
       "SparseNDArray([[ 0.0020501 ]\n",
       " [-0.46918166]\n",
       " [ 1.6669405 ]\n",
       " [ 1.        ]\n",
       " [ 1.        ]], device=cpu())"
      ]
     },
     "execution_count": 4,
     "metadata": {},
     "output_type": "execute_result"
    }
   ],
   "source": [
    "a = nd.array([[-0.9979499], [-1.4691817], [ 0.66694045], [0], [0]], device=nd.sparse_cpu())\n",
    "b = a + 1\n",
    "b\n",
    "# nd.array([[ 0.24568509], [-0.8556659 ], [-1.2956004 ]], device=nd.sparse_cpu())"
   ]
  },
  {
   "cell_type": "code",
   "execution_count": 5,
   "metadata": {},
   "outputs": [
    {
     "data": {
      "text/plain": [
       "SparseNDArray([[-0.9979499 ]\n",
       " [-1.4691817 ]\n",
       " [ 0.66694045]\n",
       " [ 0.        ]\n",
       " [ 0.        ]], device=cpu())"
      ]
     },
     "execution_count": 5,
     "metadata": {},
     "output_type": "execute_result"
    }
   ],
   "source": [
    "a"
   ]
  },
  {
   "cell_type": "code",
   "execution_count": 6,
   "metadata": {},
   "outputs": [
    {
     "data": {
      "text/plain": [
       "SparseNDArray([[ 0.0020501 ]\n",
       " [-0.46918166]\n",
       " [ 1.6669405 ]\n",
       " [ 1.        ]\n",
       " [ 1.        ]], device=cpu())"
      ]
     },
     "execution_count": 6,
     "metadata": {},
     "output_type": "execute_result"
    }
   ],
   "source": [
    "b"
   ]
  },
  {
   "cell_type": "code",
   "execution_count": 7,
   "metadata": {},
   "outputs": [
    {
     "data": {
      "text/plain": [
       "0.0"
      ]
     },
     "execution_count": 7,
     "metadata": {},
     "output_type": "execute_result"
    }
   ],
   "source": [
    "a._handle.default_val"
   ]
  },
  {
   "cell_type": "code",
   "execution_count": 8,
   "metadata": {},
   "outputs": [
    {
     "data": {
      "text/plain": [
       "1.0"
      ]
     },
     "execution_count": 8,
     "metadata": {},
     "output_type": "execute_result"
    }
   ],
   "source": [
    "b._handle.default_val"
   ]
  },
  {
   "cell_type": "code",
   "execution_count": 9,
   "metadata": {},
   "outputs": [
    {
     "data": {
      "text/plain": [
       "SparseNDArray([[-1.9958998]\n",
       " [-2.9383633]\n",
       " [ 1.3338809]\n",
       " [ 0.       ]\n",
       " [ 0.       ]], device=cpu())"
      ]
     },
     "execution_count": 9,
     "metadata": {},
     "output_type": "execute_result"
    }
   ],
   "source": [
    "a + a"
   ]
  },
  {
   "cell_type": "code",
   "execution_count": 10,
   "metadata": {},
   "outputs": [
    {
     "data": {
      "text/plain": [
       "SparseNDArray([[-0.9958998]\n",
       " [-1.9383633]\n",
       " [ 2.333881 ]\n",
       " [ 1.       ]\n",
       " [ 1.       ]], device=cpu())"
      ]
     },
     "execution_count": 10,
     "metadata": {},
     "output_type": "execute_result"
    }
   ],
   "source": [
    "2*a + 1"
   ]
  },
  {
   "cell_type": "code",
   "execution_count": 11,
   "metadata": {},
   "outputs": [
    {
     "data": {
      "text/plain": [
       "SparseNDArray([[-0.9958998]\n",
       " [-1.9383633]\n",
       " [ 2.333881 ]\n",
       " [ 1.       ]\n",
       " [ 1.       ]], device=cpu())"
      ]
     },
     "execution_count": 11,
     "metadata": {},
     "output_type": "execute_result"
    }
   ],
   "source": [
    "a+b"
   ]
  },
  {
   "cell_type": "code",
   "execution_count": 16,
   "metadata": {},
   "outputs": [
    {
     "data": {
      "text/plain": [
       "SparseNDArray([[-1.4671316]\n",
       " [-1.9383633]\n",
       " [ 0.1977588]], device=cpu())"
      ]
     },
     "execution_count": 16,
     "metadata": {},
     "output_type": "execute_result"
    }
   ],
   "source": [
    "b+a"
   ]
  },
  {
   "cell_type": "code",
   "execution_count": 25,
   "metadata": {},
   "outputs": [
    {
     "data": {
      "text/plain": [
       "SparseNDArray([[ 0.0020501 ]\n",
       " [-0.46918166]\n",
       " [ 1.6669405 ]\n",
       " [ 1.        ]\n",
       " [ 1.        ]], device=python())"
      ]
     },
     "execution_count": 25,
     "metadata": {},
     "output_type": "execute_result"
    }
   ],
   "source": [
    "c = nd.array([[-0.9979499], [-1.4691817], [ 0.66694045], [0], [0]], device=nd.sparse_py())\n",
    "d = c + 1\n",
    "d"
   ]
  },
  {
   "cell_type": "code",
   "execution_count": 28,
   "metadata": {},
   "outputs": [
    {
     "data": {
      "text/plain": [
       "SparseNDArray([[-0.9979499 ]\n",
       " [-1.4691817 ]\n",
       " [ 0.66694045]\n",
       " [ 0.        ]\n",
       " [ 0.        ]], device=python())"
      ]
     },
     "execution_count": 28,
     "metadata": {},
     "output_type": "execute_result"
    }
   ],
   "source": [
    "c"
   ]
  },
  {
   "cell_type": "code",
   "execution_count": 29,
   "metadata": {},
   "outputs": [
    {
     "data": {
      "text/plain": [
       "SparseNDArray([[ 0.0020501 ]\n",
       " [-0.46918166]\n",
       " [ 1.6669405 ]\n",
       " [ 1.        ]\n",
       " [ 1.        ]], device=python())"
      ]
     },
     "execution_count": 29,
     "metadata": {},
     "output_type": "execute_result"
    }
   ],
   "source": [
    "d"
   ]
  },
  {
   "cell_type": "code",
   "execution_count": 26,
   "metadata": {},
   "outputs": [
    {
     "data": {
      "text/plain": [
       "SparseNDArray([[-0.9958998]\n",
       " [-1.9383633]\n",
       " [ 2.333881 ]\n",
       " [ 1.       ]\n",
       " [ 1.       ]], device=python())"
      ]
     },
     "execution_count": 26,
     "metadata": {},
     "output_type": "execute_result"
    }
   ],
   "source": [
    "c+d"
   ]
  },
  {
   "cell_type": "code",
   "execution_count": 27,
   "metadata": {},
   "outputs": [
    {
     "data": {
      "text/plain": [
       "SparseNDArray([[-0.9958998]\n",
       " [-1.9383633]\n",
       " [ 2.333881 ]\n",
       " [ 1.       ]\n",
       " [ 1.       ]], device=python())"
      ]
     },
     "execution_count": 27,
     "metadata": {},
     "output_type": "execute_result"
    }
   ],
   "source": [
    "d+c"
   ]
  },
  {
   "cell_type": "code",
   "execution_count": null,
   "metadata": {},
   "outputs": [],
   "source": []
  }
 ],
 "metadata": {
  "kernelspec": {
   "display_name": "Python 3",
   "language": "python",
   "name": "python3"
  },
  "language_info": {
   "codemirror_mode": {
    "name": "ipython",
    "version": 3
   },
   "file_extension": ".py",
   "mimetype": "text/x-python",
   "name": "python",
   "nbconvert_exporter": "python",
   "pygments_lexer": "ipython3",
   "version": "3.10.12"
  }
 },
 "nbformat": 4,
 "nbformat_minor": 2
}
